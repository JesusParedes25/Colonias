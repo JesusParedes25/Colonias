{
 "cells": [
  {
   "cell_type": "code",
   "execution_count": 4,
   "id": "6e4d3f5d-d670-4a68-bc87-5ab1d9a88012",
   "metadata": {
    "tags": []
   },
   "outputs": [],
   "source": [
    "import streamlit as st\n",
    "import pandas as pd\n",
    "import plotly.express as px\n",
    "import folium\n",
    "\n",
    "# Leer los datos desde un archivo CSV\n",
    "datos = pd.read_csv(\"colonias_sigeh.csv\", encoding=\"utf-8\")\n",
    "\n",
    "# Filtrar y preparar los datos\n",
    "municipios = datos[\"MUNICIPIO\"].unique()\n",
    "colonias = []\n",
    "\n",
    "# Crear una aplicación Streamlit\n",
    "st.title(\"Llamadas de Emergencia por Colonia\")\n",
    "\n",
    "# Selector de municipio\n",
    "municipio_seleccionado = st.selectbox(\"Selecciona un Municipio:\", municipios)\n",
    "\n",
    "# Selector de colonia\n",
    "colonia_seleccionada = st.selectbox(\"Selecciona una Colonia:\", colonias)\n",
    "\n",
    "# Filtrar las colonias basadas en el municipio seleccionado\n",
    "if municipio_seleccionado:\n",
    "    colonias = datos[datos[\"MUNICIPIO\"] == municipio_seleccionado][\"COLONIAS.x\"].unique()\n",
    "    colonia_seleccionada = st.selectbox(\"Selecciona una Colonia:\", colonias)\n",
    "\n",
    "# Mapa y gráfico en una sola fila\n",
    "st.write(\"## Mapa de Colonias\")\n",
    "st.write(\"### Mapa de colonias\")\n",
    "mapa = folium.Map(location=[19.4326, -99.1332], zoom_start=10)\n",
    "st.write(mapa)\n",
    "\n",
    "st.write(\"## Gráfico de Llamadas\")\n",
    "st.write(\"### Llamadas más comunes\")\n",
    "\n",
    "# Filtrar los datos basados en la colonia seleccionada\n",
    "if colonia_seleccionada:\n",
    "    datos_filtrados = datos[(datos[\"MUNICIPIO\"] == municipio_seleccionado) & (datos[\"COLONIAS.x\"] == colonia_seleccionada)]\n",
    "    \n",
    "    # Contar las llamadas más comunes\n",
    "    llamadas_mas_comunes = datos_filtrados[\"INCIDENTE 9-1-1\"].value_counts().head(10)\n",
    "    \n",
    "    # Crear un gráfico de barras\n",
    "    fig = px.bar(llamadas_mas_comunes, x=llamadas_mas_comunes.index, y=llamadas_mas_comunes.values, labels={\"x\": \"Tipo de Llamada\", \"y\": \"Frecuencia\"})\n",
    "    st.plotly_chart(fig)\n"
   ]
  }
 ],
 "metadata": {
  "kernelspec": {
   "display_name": "Python 3 (ipykernel)",
   "language": "python",
   "name": "python3"
  },
  "language_info": {
   "codemirror_mode": {
    "name": "ipython",
    "version": 3
   },
   "file_extension": ".py",
   "mimetype": "text/x-python",
   "name": "python",
   "nbconvert_exporter": "python",
   "pygments_lexer": "ipython3",
   "version": "3.11.3"
  }
 },
 "nbformat": 4,
 "nbformat_minor": 5
}
