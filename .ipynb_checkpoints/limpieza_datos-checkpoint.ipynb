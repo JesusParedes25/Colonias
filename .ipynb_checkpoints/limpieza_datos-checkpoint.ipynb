{
 "cells": [
  {
   "cell_type": "code",
   "execution_count": 24,
   "id": "2a622cdd-a9f4-4acc-bfc3-e0a240c2877c",
   "metadata": {
    "tags": []
   },
   "outputs": [
    {
     "data": {
      "text/html": [
       "\n",
       "        <iframe\n",
       "            width=\"100%\"\n",
       "            height=\"650\"\n",
       "            src=\"http://127.0.0.1:8050/\"\n",
       "            frameborder=\"0\"\n",
       "            allowfullscreen\n",
       "            \n",
       "        ></iframe>\n",
       "        "
      ],
      "text/plain": [
       "<IPython.lib.display.IFrame at 0x1fbcf511850>"
      ]
     },
     "metadata": {},
     "output_type": "display_data"
    }
   ],
   "source": [
    "import pandas as pd\n",
    "import dash\n",
    "import dash_core_components as dcc\n",
    "import dash_html_components as html\n",
    "from dash.dependencies import Input, Output\n",
    "import matplotlib.pyplot as plt\n",
    "\n",
    "# Cargar los archivos CSV en DataFrames\n",
    "df_colonias = pd.read_csv('colonias_sigeh.csv')\n",
    "\n",
    "# ... (Código para procesar los datos y crear los widgets)\n",
    "\n",
    "# Crear la aplicación Dash\n",
    "app = dash.Dash(__name__)\n",
    "\n",
    "app.layout = html.Div([\n",
    "    html.H1(\"Visualización de Llamadas de Seguridad Pública\"),\n",
    "    html.Label(\"Selecciona un Municipio:\"),\n",
    "    dcc.Dropdown(\n",
    "        id='municipio-dropdown',\n",
    "        options=[{'label': municipio, 'value': municipio} for municipio in llamadas_por_colonia_df['MUNICIPIO'].unique()],\n",
    "        value=llamadas_por_colonia_df['MUNICIPIO'].unique()[0]\n",
    "    ),\n",
    "    html.Label(\"Selecciona una Colonia:\"),\n",
    "    dcc.Dropdown(id='colonia-dropdown'),\n",
    "    dcc.Graph(id='llamadas-grafico')\n",
    "])\n",
    "\n",
    "# Función para actualizar las opciones de colonia según el municipio seleccionado\n",
    "@app.callback(\n",
    "    Output('colonia-dropdown', 'options'),\n",
    "    [Input('municipio-dropdown', 'value')]\n",
    ")\n",
    "def actualizar_colonias(municipio):\n",
    "    colonias = llamadas_por_colonia_df[llamadas_por_colonia_df['MUNICIPIO'] == municipio]['COLONIAS.x'].unique()\n",
    "    return [{'label': colonia, 'value': colonia} for colonia in colonias]\n",
    "\n",
    "# Función para mostrar el gráfico de las 10 llamadas más comunes para la colonia seleccionada\n",
    "@app.callback(\n",
    "    Output('llamadas-grafico', 'figure'),\n",
    "    [Input('colonia-dropdown', 'value'),\n",
    "     Input('municipio-dropdown', 'value')]\n",
    ")\n",
    "def mostrar_grafico(colonia, municipio):\n",
    "    llamadas_comunes = llamadas_por_colonia_df[\n",
    "        (llamadas_por_colonia_df['MUNICIPIO'] == municipio) &\n",
    "        (llamadas_por_colonia_df['COLONIAS.x'] == colonia)\n",
    "    ]\n",
    "    llamadas_comunes = llamadas_comunes.iloc[:, 4:].sum().nlargest(10)\n",
    "    fig = {\n",
    "        'data': [\n",
    "            {'x': llamadas_comunes.index, 'y': llamadas_comunes.values, 'type': 'bar'}\n",
    "        ],\n",
    "        'layout': {\n",
    "            'title': f'Top 10 Llamadas más Comunes en {colonia}, {municipio}',\n",
    "            'xaxis': {'title': 'Tipo de Llamada'},\n",
    "            'yaxis': {'title': 'Número de Llamadas'},\n",
    "            'height': 600\n",
    "        }\n",
    "    }\n",
    "    return fig\n",
    "\n",
    "if __name__ == '__main__':\n",
    "    app.run_server(debug=True)\n"
   ]
  },
  {
   "cell_type": "code",
   "execution_count": 19,
   "id": "5a9070e5-414e-48eb-918d-7a436e2e052f",
   "metadata": {
    "tags": []
   },
   "outputs": [
    {
     "ename": "ValueError",
     "evalue": "The truth value of an array with more than one element is ambiguous. Use a.any() or a.all()",
     "output_type": "error",
     "traceback": [
      "\u001b[1;31m---------------------------------------------------------------------------\u001b[0m",
      "\u001b[1;31mValueError\u001b[0m                                Traceback (most recent call last)",
      "Cell \u001b[1;32mIn[19], line 17\u001b[0m\n\u001b[0;32m     14\u001b[0m llamadas_por_colonia_df \u001b[38;5;241m=\u001b[39m agregado\u001b[38;5;241m.\u001b[39mpivot_table(index\u001b[38;5;241m=\u001b[39m[\u001b[38;5;124m'\u001b[39m\u001b[38;5;124mMUNICIPIO\u001b[39m\u001b[38;5;124m'\u001b[39m, \u001b[38;5;124m'\u001b[39m\u001b[38;5;124mCOLONIAS.x\u001b[39m\u001b[38;5;124m'\u001b[39m], columns\u001b[38;5;241m=\u001b[39m\u001b[38;5;124m'\u001b[39m\u001b[38;5;124mINCIDENTE 9-1-1\u001b[39m\u001b[38;5;124m'\u001b[39m, values\u001b[38;5;241m=\u001b[39m\u001b[38;5;124m'\u001b[39m\u001b[38;5;124mTotal\u001b[39m\u001b[38;5;124m'\u001b[39m, fill_value\u001b[38;5;241m=\u001b[39m\u001b[38;5;241m0\u001b[39m)\u001b[38;5;241m.\u001b[39mreset_index()\n\u001b[0;32m     16\u001b[0m \u001b[38;5;66;03m# Crear un widget para seleccionar el municipio\u001b[39;00m\n\u001b[1;32m---> 17\u001b[0m \u001b[38;5;28;01mclass\u001b[39;00m \u001b[38;5;21;01mMunicipioSelector\u001b[39;00m(param\u001b[38;5;241m.\u001b[39mParameterized):\n\u001b[0;32m     18\u001b[0m     municipio \u001b[38;5;241m=\u001b[39m param\u001b[38;5;241m.\u001b[39mObjectSelector(default\u001b[38;5;241m=\u001b[39mllamadas_por_colonia_df[\u001b[38;5;124m'\u001b[39m\u001b[38;5;124mMUNICIPIO\u001b[39m\u001b[38;5;124m'\u001b[39m]\u001b[38;5;241m.\u001b[39munique()[\u001b[38;5;241m0\u001b[39m], objects\u001b[38;5;241m=\u001b[39mllamadas_por_colonia_df[\u001b[38;5;124m'\u001b[39m\u001b[38;5;124mMUNICIPIO\u001b[39m\u001b[38;5;124m'\u001b[39m]\u001b[38;5;241m.\u001b[39munique())\n\u001b[0;32m     20\u001b[0m \u001b[38;5;66;03m# Crear un widget para seleccionar la colonia\u001b[39;00m\n",
      "Cell \u001b[1;32mIn[19], line 18\u001b[0m, in \u001b[0;36mMunicipioSelector\u001b[1;34m()\u001b[0m\n\u001b[0;32m     17\u001b[0m \u001b[38;5;28;01mclass\u001b[39;00m \u001b[38;5;21;01mMunicipioSelector\u001b[39;00m(param\u001b[38;5;241m.\u001b[39mParameterized):\n\u001b[1;32m---> 18\u001b[0m     municipio \u001b[38;5;241m=\u001b[39m param\u001b[38;5;241m.\u001b[39mObjectSelector(default\u001b[38;5;241m=\u001b[39mllamadas_por_colonia_df[\u001b[38;5;124m'\u001b[39m\u001b[38;5;124mMUNICIPIO\u001b[39m\u001b[38;5;124m'\u001b[39m]\u001b[38;5;241m.\u001b[39munique()[\u001b[38;5;241m0\u001b[39m], objects\u001b[38;5;241m=\u001b[39mllamadas_por_colonia_df[\u001b[38;5;124m'\u001b[39m\u001b[38;5;124mMUNICIPIO\u001b[39m\u001b[38;5;124m'\u001b[39m]\u001b[38;5;241m.\u001b[39munique())\n",
      "File \u001b[1;32mC:\\ProgramData\\anaconda3\\Lib\\site-packages\\param\\__init__.py:1349\u001b[0m, in \u001b[0;36mObjectSelector.__init__\u001b[1;34m(self, default, objects, **kwargs)\u001b[0m\n\u001b[0;32m   1348\u001b[0m \u001b[38;5;28;01mdef\u001b[39;00m \u001b[38;5;21m__init__\u001b[39m(\u001b[38;5;28mself\u001b[39m, default\u001b[38;5;241m=\u001b[39m\u001b[38;5;28;01mNone\u001b[39;00m, objects\u001b[38;5;241m=\u001b[39m\u001b[38;5;28;01mNone\u001b[39;00m, \u001b[38;5;241m*\u001b[39m\u001b[38;5;241m*\u001b[39mkwargs):\n\u001b[1;32m-> 1349\u001b[0m     \u001b[38;5;28msuper\u001b[39m(ObjectSelector,\u001b[38;5;28mself\u001b[39m)\u001b[38;5;241m.\u001b[39m\u001b[38;5;21m__init__\u001b[39m(objects\u001b[38;5;241m=\u001b[39mobjects, default\u001b[38;5;241m=\u001b[39mdefault,\n\u001b[0;32m   1350\u001b[0m                                         empty_default\u001b[38;5;241m=\u001b[39m\u001b[38;5;28;01mTrue\u001b[39;00m, \u001b[38;5;241m*\u001b[39m\u001b[38;5;241m*\u001b[39mkwargs)\n",
      "File \u001b[1;32mC:\\ProgramData\\anaconda3\\Lib\\site-packages\\param\\__init__.py:1240\u001b[0m, in \u001b[0;36mSelector.__init__\u001b[1;34m(self, objects, default, instantiate, compute_default_fn, check_on_set, allow_None, empty_default, **params)\u001b[0m\n\u001b[0;32m   1235\u001b[0m \u001b[38;5;28;01mdef\u001b[39;00m \u001b[38;5;21m__init__\u001b[39m(\u001b[38;5;28mself\u001b[39m, objects\u001b[38;5;241m=\u001b[39m\u001b[38;5;28;01mNone\u001b[39;00m, default\u001b[38;5;241m=\u001b[39m\u001b[38;5;28;01mNone\u001b[39;00m, instantiate\u001b[38;5;241m=\u001b[39m\u001b[38;5;28;01mFalse\u001b[39;00m,\n\u001b[0;32m   1236\u001b[0m              compute_default_fn\u001b[38;5;241m=\u001b[39m\u001b[38;5;28;01mNone\u001b[39;00m, check_on_set\u001b[38;5;241m=\u001b[39m\u001b[38;5;28;01mNone\u001b[39;00m,\n\u001b[0;32m   1237\u001b[0m              allow_None\u001b[38;5;241m=\u001b[39m\u001b[38;5;28;01mNone\u001b[39;00m, empty_default\u001b[38;5;241m=\u001b[39m\u001b[38;5;28;01mFalse\u001b[39;00m, \u001b[38;5;241m*\u001b[39m\u001b[38;5;241m*\u001b[39mparams):\n\u001b[0;32m   1239\u001b[0m     autodefault \u001b[38;5;241m=\u001b[39m \u001b[38;5;28;01mNone\u001b[39;00m\n\u001b[1;32m-> 1240\u001b[0m     \u001b[38;5;28;01mif\u001b[39;00m objects:\n\u001b[0;32m   1241\u001b[0m         \u001b[38;5;28;01mif\u001b[39;00m is_ordered_dict(objects):\n\u001b[0;32m   1242\u001b[0m             autodefault \u001b[38;5;241m=\u001b[39m \u001b[38;5;28mlist\u001b[39m(objects\u001b[38;5;241m.\u001b[39mvalues())[\u001b[38;5;241m0\u001b[39m]\n",
      "\u001b[1;31mValueError\u001b[0m: The truth value of an array with more than one element is ambiguous. Use a.any() or a.all()"
     ]
    }
   ],
   "source": [
    "import pandas as pd\n",
    "import matplotlib.pyplot as plt\n",
    "import panel as pn\n",
    "import param\n",
    "import holoviews as hv\n",
    "\n",
    "# Cargar los archivos CSV en DataFrames\n",
    "df_colonias = pd.read_csv('colonias_sigeh.csv')\n",
    "\n",
    "# Realizar una agregación para contar las categorías de 'INCIDENTE 9-1-1' por 'COLONIAS.x'\n",
    "agregado = df_colonias.groupby(['MUNICIPIO', 'COLONIAS.x', 'INCIDENTE 9-1-1']).size().reset_index(name='Total')\n",
    "\n",
    "# Reorganizar los datos para que cada fila sea una 'COLONIAS.x'\n",
    "llamadas_por_colonia_df = agregado.pivot_table(index=['MUNICIPIO', 'COLONIAS.x'], columns='INCIDENTE 9-1-1', values='Total', fill_value=0).reset_index()\n",
    "\n",
    "# Crear un widget para seleccionar el municipio\n",
    "class MunicipioSelector(param.Parameterized):\n",
    "    municipio = param.ObjectSelector(default=llamadas_por_colonia_df['MUNICIPIO'].unique()[0], objects=llamadas_por_colonia_df['MUNICIPIO'].unique())\n",
    "\n",
    "# Crear un widget para seleccionar la colonia\n",
    "class ColoniaSelector(param.Parameterized):\n",
    "    colonia = param.ObjectSelector(default='', objects=[])\n",
    "\n",
    "# Función para actualizar las opciones de colonia según el municipio seleccionado\n",
    "def actualizar_colonias(*args):\n",
    "    colonias = llamadas_por_colonia_df[llamadas_por_colonia_df['MUNICIPIO'] == municipio_selector.municipio]['COLONIAS.x'].unique()\n",
    "    colonia_selector.param.objects = list(colonias)\n",
    "    colonia_selector.param.colonia.default = colonias[0] if colonias else ''\n",
    "\n",
    "municipio_selector = MunicipioSelector()\n",
    "colonia_selector = ColoniaSelector()\n",
    "\n",
    "# Asociar la función de actualización al evento de cambio en el municipio seleccionado\n",
    "municipio_selector.param.watch(actualizar_colonias, 'municipio')\n",
    "\n",
    "# Función para mostrar el gráfico de las 10 llamadas más comunes para la colonia seleccionada\n",
    "def mostrar_grafico():\n",
    "    municipio = municipio_selector.municipio\n",
    "    colonia = colonia_selector.colonia\n",
    "    llamadas_comunes = llamadas_por_colonia_df[(llamadas_por_colonia_df['MUNICIPIO'] == municipio) & (llamadas_por_colonia_df['COLONIAS.x'] == colonia)]\n",
    "    llamadas_comunes = llamadas_comunes.iloc[:, 3:].sum().nlargest(10)\n",
    "    \n",
    "    bars = hv.Bars(llamadas_comunes, kdims=['INCIDENTE 9-1-1'], vdims=['Total'])\n",
    "    bars.opts(xrotation=90, width=800, height=400, title=f'Top 10 Llamadas más Comunes en {colonia}, {municipio}', ylabel='Número de Llamadas')\n",
    "    \n",
    "    hv.extension('bokeh')\n",
    "    return bars\n",
    "\n",
    "# Crear un panel para organizar los widgets y el gráfico\n",
    "pn.Column(\n",
    "    '## Top 10 Llamadas más Comunes por Colonia',\n",
    "    pn.Row(municipio_selector, colonia_selector),\n",
    "    mostrar_grafico\n",
    ").servable()\n"
   ]
  }
 ],
 "metadata": {
  "kernelspec": {
   "display_name": "Python 3 (ipykernel)",
   "language": "python",
   "name": "python3"
  },
  "language_info": {
   "codemirror_mode": {
    "name": "ipython",
    "version": 3
   },
   "file_extension": ".py",
   "mimetype": "text/x-python",
   "name": "python",
   "nbconvert_exporter": "python",
   "pygments_lexer": "ipython3",
   "version": "3.11.3"
  }
 },
 "nbformat": 4,
 "nbformat_minor": 5
}
